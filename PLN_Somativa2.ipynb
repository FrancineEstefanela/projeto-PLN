{
 "cells": [
  {
   "cell_type": "markdown",
   "metadata": {
    "id": "v3_AXN5oHkVH"
   },
   "source": [
    "**Atividade Somativa 2** - Processamento de Linguagem\n",
    "\n",
    "# Classificação de textos - Análise de Sentimentos\n",
    "/content/drive/My Drive/PLN-Somativa2/analise-sentimentos-2000-noticias.txt\n"
   ]
  },
  {
   "cell_type": "code",
   "execution_count": 69,
   "metadata": {
    "colab": {
     "base_uri": "https://localhost:8080/"
    },
    "id": "h-MMpf86dHOI",
    "outputId": "580c901c-5ede-41e5-c90f-926b846ea9f9"
   },
   "outputs": [
    {
     "name": "stdout",
     "output_type": "stream",
     "text": [
      "Drive already mounted at /content/drive; to attempt to forcibly remount, call drive.mount(\"/content/drive\", force_remount=True).\n"
     ]
    }
   ],
   "source": [
    "from google.colab import drive\n",
    "drive.mount('/content/drive')\n"
   ]
  },
  {
   "cell_type": "code",
   "execution_count": 83,
   "metadata": {
    "colab": {
     "base_uri": "https://localhost:8080/"
    },
    "id": "xNHSN84LaVUi",
    "outputId": "fd3694e7-26b0-4930-8423-f3ea90d75b2b"
   },
   "outputs": [
    {
     "name": "stdout",
     "output_type": "stream",
     "text": [
      "analise-sentimentos-2000-noticias.txt  kaggle.json\n"
     ]
    }
   ],
   "source": [
    "!ls \"/content/drive/My Drive/PLN-Somativa2\"\n"
   ]
  },
  {
   "cell_type": "code",
   "execution_count": 82,
   "metadata": {
    "id": "ZXFLpTm_c3I4"
   },
   "outputs": [],
   "source": [
    "f = open('/content/drive/My Drive/PLN-Somativa2/analise-sentimentos-2000-noticias.txt', 'r', encoding='utf-8-sig')\n",
    "linhas = f.readlines()\n"
   ]
  },
  {
   "cell_type": "code",
   "execution_count": 84,
   "metadata": {
    "colab": {
     "base_uri": "https://localhost:8080/"
    },
    "id": "bxRLlZCXerIZ",
    "outputId": "315409ca-f6ae-47d1-b860-3cd5bdaecec4"
   },
   "outputs": [
    {
     "name": "stdout",
     "output_type": "stream",
     "text": [
      "['alegria;;irã liberta viúva condenada ao apedrejamento, diz comitê internacional. a viúva iraniana sakineh mohammadi-ashtiani, condenada à morte por apedrejamento, foi libertada juntamente com o seu filho e o seu advogado, anunciou nesta quinta-feira (9) o comitê internacional contra apedrejamento, sediado na alemanha.\\n', 'tristeza;;haiti sofre com cólera depois da passagem do furacão sandy. após a passagem do furacão sandy pelo haiti, o país vive as dificuldades da reconstrução, além de problemas causados pela contaminação da bactéria que causa o cólera.\\n', 'surpresa;;mulher acorda e encontra crocodilo de 3 m e 27 ovos no jardim de casa. especialistas capturaram e transferiram animal para local adequado.\\n', 'tristeza;;enchentes causam a morte de 4 pessoas em al: vítimas são mãe, filho, idosa de 100 anos e adolescente. defesa civil da capital já registrou mais de 30 ocorrências.\\n', 'neutro;;sem detalhes do que será discutido, revisão do plano diretor começa na segunda (17). dez oficinas, 19 audiências públicas e canal interativo serão os meios de participação popular; ippuc pretende enviar plano revisado à câmara até o início de dezembro\\n']\n"
     ]
    }
   ],
   "source": [
    "# Abrindo o arquivo salvo no Google Drive\n",
    "arquivo_caminho = '/content/drive/My Drive/PLN-Somativa2/analise-sentimentos-2000-noticias.txt'\n",
    "f = open(arquivo_caminho, 'r', encoding='utf-8-sig')\n",
    "linhas = f.readlines()\n",
    "\n",
    "# Exibindo as primeiras linhas para verificar se foi aberto corretamente\n",
    "print(linhas[:5])  # Mostra as 5 primeiras linhas\n"
   ]
  },
  {
   "cell_type": "code",
   "execution_count": 85,
   "metadata": {
    "colab": {
     "base_uri": "https://localhost:8080/"
    },
    "id": "GmjvDcXNe11B",
    "outputId": "0d78f7ec-2829-4895-d46c-4eeb74e25969"
   },
   "outputs": [
    {
     "name": "stdout",
     "output_type": "stream",
     "text": [
      "['irã liberta viúva condenada ao apedrejamento, diz comitê internacional. a viúva iraniana sakineh mohammadi-ashtiani, condenada à morte por apedrejamento, foi libertada juntamente com o seu filho e o seu advogado, anunciou nesta quinta-feira (9) o comitê internacional contra apedrejamento, sediado na alemanha.', 'haiti sofre com cólera depois da passagem do furacão sandy. após a passagem do furacão sandy pelo haiti, o país vive as dificuldades da reconstrução, além de problemas causados pela contaminação da bactéria que causa o cólera.', 'mulher acorda e encontra crocodilo de 3 m e 27 ovos no jardim de casa. especialistas capturaram e transferiram animal para local adequado.', 'enchentes causam a morte de 4 pessoas em al: vítimas são mãe, filho, idosa de 100 anos e adolescente. defesa civil da capital já registrou mais de 30 ocorrências.', 'sem detalhes do que será discutido, revisão do plano diretor começa na segunda (17). dez oficinas, 19 audiências públicas e canal interativo serão os meios de participação popular; ippuc pretende enviar plano revisado à câmara até o início de dezembro']\n",
      "['alegria', 'tristeza', 'surpresa', 'tristeza', 'neutro']\n"
     ]
    }
   ],
   "source": [
    "# Criando listas para armazenar textos e suas respectivas classes\n",
    "corpus_textos = []\n",
    "classes = []\n",
    "\n",
    "# Processando as linhas\n",
    "for linha in linhas:\n",
    "    # Dividindo a linha em texto e classe\n",
    "    classe, texto = linha.strip().split(';;')\n",
    "    corpus_textos.append(texto)\n",
    "    classes.append(classe)\n",
    "\n",
    "# Exibindo os primeiros textos e classes para verificar\n",
    "print(corpus_textos[:5])\n",
    "print(classes[:5])\n"
   ]
  },
  {
   "cell_type": "markdown",
   "metadata": {
    "id": "_httGwO2KJBv"
   },
   "source": [
    "# 1) Redução da granularidade dos sentimentos.\n",
    "\n",
    "Reduzimos as sete emoções do nosso corpus para três categorias: positivo, neutro e negativo. A classe \"positivo\" inclui \"alegria\", o \"negativo\" inclui \"raiva\", \"medo\", \"desgosto\" e \"tristeza\", e \"neutro\" permaneceu igual. Deletamos a emoção \"surpresa\". Notamos a quantidade de exemplos e encontramos 1022 negativos, 542 neutros e 184 positivos.\n",
    "\n",
    "Com a nova base de dados, treinamos um modelo usando Naive Bayes. O relatório de classificação mostrou que o modelo foi eficaz em identificar sentimentos. Para a classe \"positivo\", teve uma precisão de 0.86, o que é bom. Para \"neutro\", a precisão foi de 0.66, o que significa que pode melhorar. Já para \"negativo\", a precisão foi de 0.70, mas a capacidade de identificar corretamente esses sentimentos foi baixa (0.21). No geral, a precisão total do modelo foi de 0.79, indicando que a redução das emoções ajudou, mas ainda precisamos melhorar a identificação dos sentimentos negativos."
   ]
  },
  {
   "cell_type": "code",
   "execution_count": 94,
   "metadata": {
    "id": "WVqNKsp7b__u"
   },
   "outputs": [],
   "source": [
    "# Criar um novo corpus com as classes reduzidas\n",
    "corpus_reduzido = []\n",
    "\n",
    "# Percorre cada linha do arquivo original\n",
    "for linha in linhas:\n",
    "    sentimento = linha.split(\";;\")[0]  # Pega o sentimento\n",
    "    texto = linha.split(\";;\")[1]  # Pega o texto\n",
    "\n",
    "    # Condições para criar as novas classes\n",
    "    if sentimento == \"alegria\":\n",
    "        corpus_reduzido.append(\"positivo;;\" + texto)\n",
    "    elif sentimento in [\"raiva\", \"medo\", \"desgosto\", \"tristeza\"]:\n",
    "        corpus_reduzido.append(\"negativo;;\" + texto)\n",
    "    elif sentimento == \"neutro\":\n",
    "        corpus_reduzido.append(\"neutro;;\" + texto)\n",
    "\n",
    "# Salvar a nova base de dados no arquivo corpus_reduzido.txt\n",
    "with open(\"corpus_reduzido.txt\", \"w\", encoding=\"utf-8-sig\") as f:\n",
    "    for item in corpus_reduzido:\n",
    "        f.write(item)\n"
   ]
  },
  {
   "cell_type": "code",
   "execution_count": 95,
   "metadata": {
    "colab": {
     "base_uri": "https://localhost:8080/"
    },
    "id": "3Y3Ff2cDfZqr",
    "outputId": "115fd932-2093-4649-e4dd-963ef88639f8"
   },
   "outputs": [
    {
     "name": "stdout",
     "output_type": "stream",
     "text": [
      "              precision    recall  f1-score   support\n",
      "\n",
      "    negativo       0.89      0.81      0.85       219\n",
      "      neutro       0.60      0.84      0.70        97\n",
      "    positivo       0.62      0.29      0.40        34\n",
      "\n",
      "    accuracy                           0.77       350\n",
      "   macro avg       0.71      0.65      0.65       350\n",
      "weighted avg       0.79      0.77      0.77       350\n",
      "\n"
     ]
    }
   ],
   "source": [
    "from sklearn.feature_extraction.text import CountVectorizer\n",
    "from sklearn.model_selection import train_test_split\n",
    "from sklearn.naive_bayes import MultinomialNB\n",
    "from sklearn.metrics import classification_report\n",
    "\n",
    "# Carregar o corpus reduzido\n",
    "with open(\"corpus_reduzido.txt\", \"r\", encoding=\"utf-8-sig\") as f:\n",
    "    linhas = f.readlines()\n",
    "\n",
    "# Separar os textos e os rótulos\n",
    "corpus_textos = [linha.split(\";;\")[1] for linha in linhas]\n",
    "corpus_sentimentos = [linha.split(\";;\")[0] for linha in linhas]\n",
    "\n",
    "# Alterando parâmetros do CountVectorizer: min_df = 2 para ignorar palavras muito raras\n",
    "vectorizer = CountVectorizer(min_df=2, ngram_range=(1,2))  # Usando bigramas\n",
    "\n",
    "# Vetorizar o corpus\n",
    "X = vectorizer.fit_transform(corpus_textos)\n",
    "\n",
    "# Separar dados de treino e teste\n",
    "X_train, X_test, y_train, y_test = train_test_split(X, corpus_sentimentos, test_size=0.2, random_state=42)\n",
    "\n",
    "# Utilizar o classificador MultinomialNB (Naive Bayes)\n",
    "clf = MultinomialNB()\n",
    "\n",
    "# Treinar o classificador\n",
    "clf.fit(X_train, y_train)\n",
    "\n",
    "# Fazer previsões\n",
    "y_pred = clf.predict(X_test)\n",
    "\n",
    "# Avaliar os resultados\n",
    "print(classification_report(y_test, y_pred))\n"
   ]
  },
  {
   "cell_type": "code",
   "execution_count": 96,
   "metadata": {
    "colab": {
     "base_uri": "https://localhost:8080/"
    },
    "id": "BwYAKJOBfiNq",
    "outputId": "804bde1c-5a39-44fa-c703-901f4b5bb11e"
   },
   "outputs": [
    {
     "name": "stdout",
     "output_type": "stream",
     "text": [
      "Counter({'negativo': 1022, 'neutro': 542, 'positivo': 184})\n",
      "Texto: irã liberta viúva condenada ao apedrejamento, diz comitê internacional. a viúva iraniana sakineh mohammadi-ashtiani, condenada à morte por apedrejamento, foi libertada juntamente com o seu filho e o seu advogado, anunciou nesta quinta-feira (9) o comitê internacional contra apedrejamento, sediado na alemanha.\n",
      " -> Sentimento: positivo\n",
      "Texto: haiti sofre com cólera depois da passagem do furacão sandy. após a passagem do furacão sandy pelo haiti, o país vive as dificuldades da reconstrução, além de problemas causados pela contaminação da bactéria que causa o cólera.\n",
      " -> Sentimento: negativo\n",
      "Texto: enchentes causam a morte de 4 pessoas em al: vítimas são mãe, filho, idosa de 100 anos e adolescente. defesa civil da capital já registrou mais de 30 ocorrências.\n",
      " -> Sentimento: negativo\n",
      "Texto: sem detalhes do que será discutido, revisão do plano diretor começa na segunda (17). dez oficinas, 19 audiências públicas e canal interativo serão os meios de participação popular; ippuc pretende enviar plano revisado à câmara até o início de dezembro\n",
      " -> Sentimento: neutro\n",
      "Texto: chávez apresenta neto de allende como companheiro da filha: pablo sepúlveda allende é médico e neto de salvador allende. maría, de 29 anos, é a segunda filha do primeiro casamento de chávez.\n",
      " -> Sentimento: neutro\n"
     ]
    }
   ],
   "source": [
    "# Carregar o novo corpus com a granularidade reduzida\n",
    "with open(\"corpus_reduzido.txt\", \"r\", encoding=\"utf-8-sig\") as f:\n",
    "    linhas = f.readlines()\n",
    "\n",
    "# Separar os textos e os rótulos\n",
    "corpus_textos = [linha.split(\";;\")[1] for linha in linhas]\n",
    "corpus_sentimentos = [linha.split(\";;\")[0] for linha in linhas]\n",
    "\n",
    "# Visualizar a quantidade de exemplos em cada classe (positivo, neutro, negativo)\n",
    "from collections import Counter\n",
    "print(Counter(corpus_sentimentos))\n",
    "\n",
    "# Exemplo de como as primeiras linhas do corpus foram distribuídas\n",
    "for i in range(5):\n",
    "    print(f\"Texto: {corpus_textos[i]} -> Sentimento: {corpus_sentimentos[i]}\")\n"
   ]
  },
  {
   "cell_type": "code",
   "execution_count": 97,
   "metadata": {
    "colab": {
     "base_uri": "https://localhost:8080/"
    },
    "id": "pwMr3ciugND4",
    "outputId": "b69b7383-f16f-42b4-eeb9-2ea505a66c56"
   },
   "outputs": [
    {
     "name": "stdout",
     "output_type": "stream",
     "text": [
      "Relatório de Classificação:\n",
      "              precision    recall  f1-score   support\n",
      "\n",
      "    positivo       0.86      0.87      0.87       219\n",
      "      neutro       0.66      0.80      0.72        97\n",
      "    negativo       0.70      0.21      0.32        34\n",
      "\n",
      "    accuracy                           0.79       350\n",
      "   macro avg       0.74      0.63      0.64       350\n",
      "weighted avg       0.79      0.79      0.77       350\n",
      "\n"
     ]
    }
   ],
   "source": [
    "# Importar bibliotecas necessárias\n",
    "from sklearn.model_selection import train_test_split\n",
    "from sklearn.feature_extraction.text import CountVectorizer\n",
    "from sklearn.naive_bayes import MultinomialNB\n",
    "from sklearn.metrics import classification_report\n",
    "\n",
    "# Vetorização do texto\n",
    "vectorizer = CountVectorizer()\n",
    "\n",
    "# Transformar o corpus em uma matriz de contagem de palavras\n",
    "X = vectorizer.fit_transform(corpus_textos)\n",
    "\n",
    "# Separar os dados em treinamento e teste (80% treino, 20% teste)\n",
    "X_train, X_test, y_train, y_test = train_test_split(X, corpus_sentimentos, test_size=0.2, random_state=42)\n",
    "\n",
    "# Treinamento do classificador Naive Bayes\n",
    "clf = MultinomialNB()\n",
    "clf.fit(X_train, y_train)\n",
    "\n",
    "# Previsão no conjunto de teste\n",
    "y_pred = clf.predict(X_test)\n",
    "\n",
    "# Avaliar o modelo\n",
    "print(\"Relatório de Classificação:\")\n",
    "print(classification_report(y_test, y_pred, target_names=[\"positivo\", \"neutro\", \"negativo\"]))\n",
    "\n",
    "# Comparação dos resultados com a versão original (se você tiver o código ou resultados do modelo anterior)\n"
   ]
  },
  {
   "cell_type": "markdown",
   "metadata": {
    "id": "MiJGsaVJQnHc"
   },
   "source": [
    "# 2) Configuração dos parâmetros de extração de atributos e do classificador\n",
    "\n",
    "Nesta etapa, queríamos melhorar a classificação dos sentimentos usando nosso novo conjunto de dados com três emoções: positivo, neutro e negativo.\n",
    "\n",
    "Primeiro, ajustamos como extraímos as palavras, usando o CountVectorizer, que limita as 1.000 palavras mais comuns. Assim treinamos um modelo de classificação utilizando o Naive Bayes e avaliamos seu desempenho, com os seguintes resultados: para a classe \"negativo\", a precisão foi de 0.86, para \"neutro\" foi de 0.62, e para \"positivo\" foi de 0.44. A precisão total do modelo foi de 0.75.\n",
    "\n",
    "Depois, trocamos o CountVectorizer pelo TfidfVectorizer, que leva em conta a importância das palavras em cada texto. Usamos o Naive Bayes novamente para avaliar o modelo.Por fim, testamos um novo classificador chamado LogisticRegression, treinando e avaliando da mesma forma.\n",
    "\n",
    "Essas etapas nos ajudaram a ver como diferentes métodos e configurações afetam a classificação dos sentimentos, permitindo melhorias no nosso modelo, já que os resultados mostram que, apesar de um desempenho razoável, ainda podemos aprimorar a identificação da classe \"positivo\"."
   ]
  },
  {
   "cell_type": "code",
   "execution_count": 98,
   "metadata": {
    "colab": {
     "base_uri": "https://localhost:8080/"
    },
    "id": "fl-ymEQzRJX7",
    "outputId": "2d420cd5-e0b8-4af5-b19f-3d38c0059e2a"
   },
   "outputs": [
    {
     "name": "stdout",
     "output_type": "stream",
     "text": [
      "              precision    recall  f1-score   support\n",
      "\n",
      "    negativo       0.86      0.81      0.83       219\n",
      "      neutro       0.62      0.80      0.70        97\n",
      "    positivo       0.44      0.21      0.28        34\n",
      "\n",
      "    accuracy                           0.75       350\n",
      "   macro avg       0.64      0.61      0.60       350\n",
      "weighted avg       0.75      0.75      0.74       350\n",
      "\n"
     ]
    }
   ],
   "source": [
    "from sklearn.feature_extraction.text import CountVectorizer\n",
    "from sklearn.naive_bayes import MultinomialNB\n",
    "from sklearn.pipeline import make_pipeline\n",
    "from sklearn.model_selection import train_test_split\n",
    "from sklearn.metrics import classification_report\n",
    "\n",
    "# Configuração do CountVectorizer\n",
    "vectorizer = CountVectorizer(max_features=1000)  # Limitando a 1000 palavras\n",
    "\n",
    "# Criar o pipeline com o classificador Naive Bayes\n",
    "pipeline = make_pipeline(vectorizer, MultinomialNB())\n",
    "\n",
    "# Separar os dados para treinamento e teste\n",
    "X_train, X_test, y_train, y_test = train_test_split(corpus_textos, corpus_sentimentos, test_size=0.2, random_state=42)\n",
    "\n",
    "# Treinamento do modelo\n",
    "pipeline.fit(X_train, y_train)\n",
    "\n",
    "# Avaliação do modelo\n",
    "y_pred = pipeline.predict(X_test)\n",
    "print(classification_report(y_test, y_pred))\n"
   ]
  },
  {
   "cell_type": "markdown",
   "metadata": {
    "id": "2Cf7w-bAStm0"
   },
   "source": [
    "# 3. Adicione novas etapas de extração de atributos ou de pré-processamento\n",
    "\n",
    "Nesta terceira etapa, usamos uma nova técnica chamada TF-IDF para ajudar o modelo a entender melhor quais palavras são importantes para analisar os sentimentos. A ideia era melhorar a precisão das previsões.\n",
    "\n",
    "Depois de treinar o modelo, os resultados mostraram que ele acertou bastante os sentimentos negativos, com uma precisão de 0.69 e um recall de 0.97. Para os sentimentos neutros, a precisão foi de 0.75, mas o recall ficou baixo em 0.34, indicando que muitos sentimentos neutros não foram identificados. Já para os sentimentos positivos, o modelo não conseguiu prever nada, com precisão e recall de 0.00.\n",
    "\n",
    "No total, a precisão do modelo foi de 0.70. Isso mostra que, embora conseguimos melhorar na identificação de sentimentos negativos e neutros, ainda temos dificuldades em classificar os sentimentos positivos."
   ]
  },
  {
   "cell_type": "code",
   "execution_count": 99,
   "metadata": {
    "colab": {
     "base_uri": "https://localhost:8080/"
    },
    "id": "LyIEJDTzSxav",
    "outputId": "69667593-1831-4ed1-f2e8-dc7aa64cffd4"
   },
   "outputs": [
    {
     "name": "stdout",
     "output_type": "stream",
     "text": [
      "Matriz de Confusão:\n",
      "[[212   7   0]\n",
      " [ 64  33   0]\n",
      " [ 30   4   0]]\n",
      "\n",
      "Relatório de Classificação:\n",
      "              precision    recall  f1-score   support\n",
      "\n",
      "    negativo       0.69      0.97      0.81       219\n",
      "      neutro       0.75      0.34      0.47        97\n",
      "    positivo       0.00      0.00      0.00        34\n",
      "\n",
      "    accuracy                           0.70       350\n",
      "   macro avg       0.48      0.44      0.43       350\n",
      "weighted avg       0.64      0.70      0.64       350\n",
      "\n"
     ]
    },
    {
     "name": "stderr",
     "output_type": "stream",
     "text": [
      "/usr/local/lib/python3.10/dist-packages/sklearn/metrics/_classification.py:1471: UndefinedMetricWarning: Precision and F-score are ill-defined and being set to 0.0 in labels with no predicted samples. Use `zero_division` parameter to control this behavior.\n",
      "  _warn_prf(average, modifier, msg_start, len(result))\n",
      "/usr/local/lib/python3.10/dist-packages/sklearn/metrics/_classification.py:1471: UndefinedMetricWarning: Precision and F-score are ill-defined and being set to 0.0 in labels with no predicted samples. Use `zero_division` parameter to control this behavior.\n",
      "  _warn_prf(average, modifier, msg_start, len(result))\n",
      "/usr/local/lib/python3.10/dist-packages/sklearn/metrics/_classification.py:1471: UndefinedMetricWarning: Precision and F-score are ill-defined and being set to 0.0 in labels with no predicted samples. Use `zero_division` parameter to control this behavior.\n",
      "  _warn_prf(average, modifier, msg_start, len(result))\n"
     ]
    }
   ],
   "source": [
    "from sklearn.feature_extraction.text import TfidfVectorizer\n",
    "from sklearn.naive_bayes import MultinomialNB\n",
    "from sklearn.pipeline import make_pipeline\n",
    "from sklearn.model_selection import train_test_split\n",
    "from sklearn.metrics import classification_report, confusion_matrix\n",
    "\n",
    "# Separar os dados para treinamento e teste\n",
    "X_train, X_test, y_train, y_test = train_test_split(corpus_textos, corpus_sentimentos, test_size=0.2, random_state=42)\n",
    "\n",
    "# Criar o pipeline com TF-IDF\n",
    "pipeline_tfidf = make_pipeline(TfidfVectorizer(), MultinomialNB())\n",
    "\n",
    "# Treinar o modelo\n",
    "pipeline_tfidf.fit(X_train, y_train)\n",
    "\n",
    "# Fazer previsões\n",
    "y_pred = pipeline_tfidf.predict(X_test)\n",
    "\n",
    "# Avaliar o modelo\n",
    "print(\"Matriz de Confusão:\")\n",
    "print(confusion_matrix(y_test, y_pred))\n",
    "\n",
    "print(\"\\nRelatório de Classificação:\")\n",
    "print(classification_report(y_test, y_pred))\n"
   ]
  },
  {
   "cell_type": "markdown",
   "metadata": {
    "id": "Yf_fQU6WTGfE"
   },
   "source": [
    "# 4) Utilize outro classificador de texto\n",
    "\n",
    "Na quarta etapa usamos um novo classificador, o Random Forest. Primeiro, dividimos os dados: uma parte para treinar o modelo e outra para testar. Transformamos os textos em um formato que o computador consegue entender e treinamos o modelo. Depois, o modelo fez previsões com os dados de teste. Ele acertou bem os sentimentos negativos, com uma precisão de 0.71 e recall de 0.95. Para os sentimentos neutros, a precisão foi de 0.72, eos positivos, não conseguiu prever nada, com precisão e recall de 0.00.\n",
    "No total, a precisão do modelo foi de 0.71. Isso mostra que melhoramos na identificação de sentimentos negativos e neutros, mas ainda precisamos trabalhar mais para reconhecer os sentimentos positivos."
   ]
  },
  {
   "cell_type": "code",
   "execution_count": 33,
   "metadata": {
    "colab": {
     "base_uri": "https://localhost:8080/"
    },
    "id": "ragzmcQ6T3kP",
    "outputId": "600873de-de42-4081-9274-67d4f296801a"
   },
   "outputs": [
    {
     "name": "stdout",
     "output_type": "stream",
     "text": [
      "              precision    recall  f1-score   support\n",
      "\n",
      "    negativo       0.71      0.95      0.81       219\n",
      "      neutro       0.72      0.44      0.55        97\n",
      "    positivo       0.00      0.00      0.00        34\n",
      "\n",
      "    accuracy                           0.71       350\n",
      "   macro avg       0.48      0.46      0.45       350\n",
      "weighted avg       0.65      0.71      0.66       350\n",
      "\n",
      "Texto: vândalos entram em escola e queimam livros e documentos, no pr. caso aconteceu na madrugada desta segunda-feira (7), em cascavel. câmeras de segurança flagraram quatro pessoas entrando no colégio.\n",
      " -> Sentimento Previsto: negativo\n",
      "Texto: merkel: violação do direito internacional causará reação. a chanceler da alemanha, angela merkel, disse nesta sexta-feira que é importante manter a porta aberta para discussões com a rússia sobre a ucrânia, mas que o ocidente precisa ser consistente na resposta a violações do direito internacional.\n",
      " -> Sentimento Previsto: neutro\n",
      "Texto: verissimo continua em estado grave, mas responde ao tratamento, segundo boletim. as informações foram divulgadas às 9h15 desta sexta. o escritor está internado no hospital moinhos de vento na capital\n",
      " -> Sentimento Previsto: negativo\n",
      "Texto: capotamento deixa duas pessoas feridas em pituaçu. um capotamento provocado por uma colisão entre dois carros no bairro de pituaçu deixou duas pessoas feridas na manhã desta sexta-feira, 14.\n",
      " -> Sentimento Previsto: negativo\n",
      "Texto: lula vai a genebra para participar de reuniões da onu e da oit: ele se encontrará com sarkozy pela primeira vez após acidente do voo 447. na terça, lula segue para a rússia, onde se reúne com líderes dos brics.\n",
      " -> Sentimento Previsto: neutro\n"
     ]
    },
    {
     "name": "stderr",
     "output_type": "stream",
     "text": [
      "/usr/local/lib/python3.10/dist-packages/sklearn/metrics/_classification.py:1471: UndefinedMetricWarning: Precision and F-score are ill-defined and being set to 0.0 in labels with no predicted samples. Use `zero_division` parameter to control this behavior.\n",
      "  _warn_prf(average, modifier, msg_start, len(result))\n",
      "/usr/local/lib/python3.10/dist-packages/sklearn/metrics/_classification.py:1471: UndefinedMetricWarning: Precision and F-score are ill-defined and being set to 0.0 in labels with no predicted samples. Use `zero_division` parameter to control this behavior.\n",
      "  _warn_prf(average, modifier, msg_start, len(result))\n",
      "/usr/local/lib/python3.10/dist-packages/sklearn/metrics/_classification.py:1471: UndefinedMetricWarning: Precision and F-score are ill-defined and being set to 0.0 in labels with no predicted samples. Use `zero_division` parameter to control this behavior.\n",
      "  _warn_prf(average, modifier, msg_start, len(result))\n"
     ]
    }
   ],
   "source": [
    "from sklearn.ensemble import RandomForestClassifier\n",
    "from sklearn.pipeline import Pipeline\n",
    "from sklearn.feature_extraction.text import CountVectorizer\n",
    "from sklearn.model_selection import train_test_split\n",
    "from sklearn.metrics import classification_report\n",
    "\n",
    "# Separar os dados para treinamento e teste\n",
    "X_train, X_test, y_train, y_test = train_test_split(corpus_textos, corpus_sentimentos, test_size=0.2, random_state=42)\n",
    "\n",
    "# Criar um pipeline com o classificador Random Forest\n",
    "pipeline_rf = Pipeline([\n",
    "    ('vectorizer', CountVectorizer()),  # Vetorização de palavras\n",
    "    ('classifier', RandomForestClassifier(n_estimators=100))  # Classificador Random Forest\n",
    "])\n",
    "\n",
    "# Treinamento do modelo\n",
    "pipeline_rf.fit(X_train, y_train)\n",
    "\n",
    "# Previsão nos dados de teste\n",
    "y_pred = pipeline_rf.predict(X_test)\n",
    "\n",
    "# Relatório de classificação para visualizar resultados\n",
    "print(classification_report(y_test, y_pred))\n",
    "\n",
    "# Exemplos de previsões\n",
    "for i in range(5):\n",
    "    print(f\"Texto: {X_test[i]} -> Sentimento Previsto: {y_pred[i]}\")\n"
   ]
  },
  {
   "cell_type": "markdown",
   "metadata": {
    "id": "cGcqMD5jVlF2"
   },
   "source": [
    "Nesta atividade, trabalhamos na classificação de sentimentos em quatro etapas. Primeiro, reduzimos as emoções para três categorias: positivo, neutro e negativo. Em seguida, melhoramos a forma como extraímos as palavras e usamos a técnica TF-IDF, que ajuda a encontrar as palavras mais importantes nos textos. Depois, testamos diferentes métodos para tentar melhorar a precisão das análises. Usamos um conjunto de dados do Kaggle, que nos deu informações reais para trabalhar. Embora tenhamos conseguido identificar melhor os sentimentos negativos e neutros, ainda temos dificuldades com os sentimentos positivos, o que mostra que precisamos continuar aprimorando nosso modelo."
   ]
  }
 ],
 "metadata": {
  "colab": {
   "provenance": []
  },
  "kernelspec": {
   "display_name": "Python 3",
   "name": "python3"
  },
  "language_info": {
   "name": "python"
  }
 },
 "nbformat": 4,
 "nbformat_minor": 0
}
